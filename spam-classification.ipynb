{
 "cells": [
  {
   "cell_type": "code",
   "execution_count": 26,
   "metadata": {},
   "outputs": [],
   "source": [
    "#Import\n",
    "import numpy as np\n",
    "import pandas as pd\n",
    "import nltk\n",
    "from nltk.corpus import stopwords\n",
    "from textblob import TextBlob"
   ]
  },
  {
   "cell_type": "code",
   "execution_count": 27,
   "metadata": {},
   "outputs": [
    {
     "data": {
      "text/html": [
       "<div>\n",
       "<style scoped>\n",
       "    .dataframe tbody tr th:only-of-type {\n",
       "        vertical-align: middle;\n",
       "    }\n",
       "\n",
       "    .dataframe tbody tr th {\n",
       "        vertical-align: top;\n",
       "    }\n",
       "\n",
       "    .dataframe thead th {\n",
       "        text-align: right;\n",
       "    }\n",
       "</style>\n",
       "<table border=\"1\" class=\"dataframe\">\n",
       "  <thead>\n",
       "    <tr style=\"text-align: right;\">\n",
       "      <th></th>\n",
       "      <th>label</th>\n",
       "      <th>message</th>\n",
       "    </tr>\n",
       "  </thead>\n",
       "  <tbody>\n",
       "    <tr>\n",
       "      <th>0</th>\n",
       "      <td>ham</td>\n",
       "      <td>I've been searching for the right words to tha...</td>\n",
       "    </tr>\n",
       "    <tr>\n",
       "      <th>1</th>\n",
       "      <td>spam</td>\n",
       "      <td>Free entry in 2 a wkly comp to win FA Cup fina...</td>\n",
       "    </tr>\n",
       "    <tr>\n",
       "      <th>2</th>\n",
       "      <td>ham</td>\n",
       "      <td>Nah I don't think he goes to usf, he lives aro...</td>\n",
       "    </tr>\n",
       "    <tr>\n",
       "      <th>3</th>\n",
       "      <td>ham</td>\n",
       "      <td>Even my brother is not like to speak with me. ...</td>\n",
       "    </tr>\n",
       "    <tr>\n",
       "      <th>4</th>\n",
       "      <td>ham</td>\n",
       "      <td>I HAVE A DATE ON SUNDAY WITH WILL!!!</td>\n",
       "    </tr>\n",
       "  </tbody>\n",
       "</table>\n",
       "</div>"
      ],
      "text/plain": [
       "  label                                            message\n",
       "0   ham  I've been searching for the right words to tha...\n",
       "1  spam  Free entry in 2 a wkly comp to win FA Cup fina...\n",
       "2   ham  Nah I don't think he goes to usf, he lives aro...\n",
       "3   ham  Even my brother is not like to speak with me. ...\n",
       "4   ham               I HAVE A DATE ON SUNDAY WITH WILL!!!"
      ]
     },
     "execution_count": 27,
     "metadata": {},
     "output_type": "execute_result"
    }
   ],
   "source": [
    "#Load and print head of DataFrame\n",
    "df = pd.read_csv(\"spam-data.tsv\", sep=\"\\t\", names=[\"label\", \"message\"])\n",
    "df.head()"
   ]
  },
  {
   "cell_type": "code",
   "execution_count": 28,
   "metadata": {},
   "outputs": [
    {
     "data": {
      "text/plain": [
       "(5567, 2)"
      ]
     },
     "execution_count": 28,
     "metadata": {},
     "output_type": "execute_result"
    }
   ],
   "source": [
    "#Print details about quantity(rows, columns)\n",
    "df.shape"
   ]
  },
  {
   "cell_type": "code",
   "execution_count": 29,
   "metadata": {},
   "outputs": [],
   "source": [
    "#Check and remove duplicates\n",
    "df.drop_duplicates(inplace = True)"
   ]
  },
  {
   "cell_type": "code",
   "execution_count": 30,
   "metadata": {},
   "outputs": [
    {
     "data": {
      "text/plain": [
       "(5164, 2)"
      ]
     },
     "execution_count": 30,
     "metadata": {},
     "output_type": "execute_result"
    }
   ],
   "source": [
    "#Veryfy how many duplicates have been deleted (rows, columns)\n",
    "df.shape"
   ]
  },
  {
   "cell_type": "code",
   "execution_count": 31,
   "metadata": {},
   "outputs": [
    {
     "data": {
      "text/plain": [
       "label      0\n",
       "message    0\n",
       "dtype: int64"
      ]
     },
     "execution_count": 31,
     "metadata": {},
     "output_type": "execute_result"
    }
   ],
   "source": [
    "#Show the number of invalid/missing data (NAN, Nan ..)\n",
    "df.isnull().sum()"
   ]
  },
  {
   "cell_type": "code",
   "execution_count": 32,
   "metadata": {},
   "outputs": [
    {
     "data": {
      "text/html": [
       "<div>\n",
       "<style scoped>\n",
       "    .dataframe tbody tr th:only-of-type {\n",
       "        vertical-align: middle;\n",
       "    }\n",
       "\n",
       "    .dataframe tbody tr th {\n",
       "        vertical-align: top;\n",
       "    }\n",
       "\n",
       "    .dataframe thead th {\n",
       "        text-align: right;\n",
       "    }\n",
       "</style>\n",
       "<table border=\"1\" class=\"dataframe\">\n",
       "  <thead>\n",
       "    <tr style=\"text-align: right;\">\n",
       "      <th></th>\n",
       "      <th>label</th>\n",
       "      <th>message</th>\n",
       "    </tr>\n",
       "  </thead>\n",
       "  <tbody>\n",
       "    <tr>\n",
       "      <th>0</th>\n",
       "      <td>ham</td>\n",
       "      <td>Ive been searching for the right words to than...</td>\n",
       "    </tr>\n",
       "    <tr>\n",
       "      <th>1</th>\n",
       "      <td>spam</td>\n",
       "      <td>Free entry in 2 a wkly comp to win FA Cup fina...</td>\n",
       "    </tr>\n",
       "    <tr>\n",
       "      <th>2</th>\n",
       "      <td>ham</td>\n",
       "      <td>Nah I dont think he goes to usf he lives aroun...</td>\n",
       "    </tr>\n",
       "    <tr>\n",
       "      <th>3</th>\n",
       "      <td>ham</td>\n",
       "      <td>Even my brother is not like to speak with me T...</td>\n",
       "    </tr>\n",
       "    <tr>\n",
       "      <th>4</th>\n",
       "      <td>ham</td>\n",
       "      <td>I HAVE A DATE ON SUNDAY WITH WILL</td>\n",
       "    </tr>\n",
       "  </tbody>\n",
       "</table>\n",
       "</div>"
      ],
      "text/plain": [
       "  label                                            message\n",
       "0   ham  Ive been searching for the right words to than...\n",
       "1  spam  Free entry in 2 a wkly comp to win FA Cup fina...\n",
       "2   ham  Nah I dont think he goes to usf he lives aroun...\n",
       "3   ham  Even my brother is not like to speak with me T...\n",
       "4   ham                  I HAVE A DATE ON SUNDAY WITH WILL"
      ]
     },
     "execution_count": 32,
     "metadata": {},
     "output_type": "execute_result"
    }
   ],
   "source": [
    "#Delete punctuation\n",
    "df['message'] = df['message'].str.replace('[^\\w\\s]', '')\n",
    "df.head()"
   ]
  },
  {
   "cell_type": "code",
   "execution_count": 33,
   "metadata": {},
   "outputs": [
    {
     "data": {
      "text/html": [
       "<div>\n",
       "<style scoped>\n",
       "    .dataframe tbody tr th:only-of-type {\n",
       "        vertical-align: middle;\n",
       "    }\n",
       "\n",
       "    .dataframe tbody tr th {\n",
       "        vertical-align: top;\n",
       "    }\n",
       "\n",
       "    .dataframe thead th {\n",
       "        text-align: right;\n",
       "    }\n",
       "</style>\n",
       "<table border=\"1\" class=\"dataframe\">\n",
       "  <thead>\n",
       "    <tr style=\"text-align: right;\">\n",
       "      <th></th>\n",
       "      <th>label</th>\n",
       "      <th>message</th>\n",
       "    </tr>\n",
       "  </thead>\n",
       "  <tbody>\n",
       "    <tr>\n",
       "      <th>0</th>\n",
       "      <td>ham</td>\n",
       "      <td>Ive searching right words thank breather I pro...</td>\n",
       "    </tr>\n",
       "    <tr>\n",
       "      <th>1</th>\n",
       "      <td>spam</td>\n",
       "      <td>Free entry 2 wkly comp win FA Cup final tkts 2...</td>\n",
       "    </tr>\n",
       "    <tr>\n",
       "      <th>2</th>\n",
       "      <td>ham</td>\n",
       "      <td>Nah I dont think goes usf lives around though</td>\n",
       "    </tr>\n",
       "    <tr>\n",
       "      <th>3</th>\n",
       "      <td>ham</td>\n",
       "      <td>Even brother like speak They treat like aids p...</td>\n",
       "    </tr>\n",
       "    <tr>\n",
       "      <th>4</th>\n",
       "      <td>ham</td>\n",
       "      <td>I HAVE A DATE ON SUNDAY WITH WILL</td>\n",
       "    </tr>\n",
       "  </tbody>\n",
       "</table>\n",
       "</div>"
      ],
      "text/plain": [
       "  label                                            message\n",
       "0   ham  Ive searching right words thank breather I pro...\n",
       "1  spam  Free entry 2 wkly comp win FA Cup final tkts 2...\n",
       "2   ham      Nah I dont think goes usf lives around though\n",
       "3   ham  Even brother like speak They treat like aids p...\n",
       "4   ham                  I HAVE A DATE ON SUNDAY WITH WILL"
      ]
     },
     "execution_count": 33,
     "metadata": {},
     "output_type": "execute_result"
    }
   ],
   "source": [
    "#Delete stopwords\n",
    "stop = stopwords.words('english')\n",
    "df['message'] = df['message'].apply(lambda x: \" \".join(x for x in x.split() if x not in stop))\n",
    "df.head()"
   ]
  },
  {
   "cell_type": "code",
   "execution_count": 34,
   "metadata": {},
   "outputs": [
    {
     "data": {
      "text/plain": [
       "I       1395\n",
       "u        696\n",
       "2        447\n",
       "call     326\n",
       "get      322\n",
       "U        315\n",
       "Im       303\n",
       "4        263\n",
       "ur       255\n",
       "ltgt     254\n",
       "You      246\n",
       "dtype: int64"
      ]
     },
     "execution_count": 34,
     "metadata": {},
     "output_type": "execute_result"
    }
   ],
   "source": [
    "#Count frequently used words\n",
    "freq = pd.Series(' '.join(df['message']).split()).value_counts()[:11]\n",
    "freq"
   ]
  },
  {
   "cell_type": "code",
   "execution_count": 35,
   "metadata": {},
   "outputs": [
    {
     "data": {
      "text/plain": [
       "0    Ive searching right words thank breather promi...\n",
       "1    Free entry wkly comp win FA Cup final tkts 21s...\n",
       "2          Nah dont think goes usf lives around though\n",
       "3    Even brother like speak They treat like aids p...\n",
       "4                      HAVE A DATE ON SUNDAY WITH WILL\n",
       "Name: message, dtype: object"
      ]
     },
     "execution_count": 35,
     "metadata": {},
     "output_type": "execute_result"
    }
   ],
   "source": [
    "#Delete frequently used words\n",
    "df['message'] = df['message'].apply(lambda x: \" \".join(x for x in x.split() if x not in freq))\n",
    "df['message'].head()"
   ]
  },
  {
   "cell_type": "code",
   "execution_count": 36,
   "metadata": {},
   "outputs": [
    {
     "data": {
      "text/plain": [
       "go      242\n",
       "know    233\n",
       "like    220\n",
       "dont    209\n",
       "got     199\n",
       "come    192\n",
       "time    183\n",
       "want    164\n",
       "day     164\n",
       "lor     157\n",
       "No      156\n",
       "dtype: int64"
      ]
     },
     "execution_count": 36,
     "metadata": {},
     "output_type": "execute_result"
    }
   ],
   "source": [
    "#Re-count frequently used words\n",
    "freq = pd.Series(' '.join(df['message']).split()).value_counts()[:11]\n",
    "freq"
   ]
  },
  {
   "cell_type": "code",
   "execution_count": 37,
   "metadata": {},
   "outputs": [
    {
     "data": {
      "text/plain": [
       "legitimat     1\n",
       "individual    1\n",
       "731           1\n",
       "minimum       1\n",
       "goodnite      1\n",
       "             ..\n",
       "Lancaster     1\n",
       "Yesbut        1\n",
       "europe        1\n",
       "NOK           1\n",
       "URFEELING     1\n",
       "Length: 7045, dtype: int64"
      ]
     },
     "execution_count": 37,
     "metadata": {},
     "output_type": "execute_result"
    }
   ],
   "source": [
    "#Count rare used words\n",
    "rare = pd.Series(' '.join(df['message']).split()).value_counts()[-7045:]\n",
    "rare"
   ]
  },
  {
   "cell_type": "code",
   "execution_count": 38,
   "metadata": {},
   "outputs": [
    {
     "data": {
      "text/plain": [
       "0    Ive searching right words thank promise wont t...\n",
       "1    Free entry wkly comp win FA Cup final tkts 21s...\n",
       "2          Nah dont think goes usf lives around though\n",
       "3              Even brother like speak They treat like\n",
       "4                      HAVE A DATE ON SUNDAY WITH WILL\n",
       "Name: message, dtype: object"
      ]
     },
     "execution_count": 38,
     "metadata": {},
     "output_type": "execute_result"
    }
   ],
   "source": [
    "#Delete rare used words\n",
    "#rare = list(rare)\n",
    "df['message'] = df['message'].apply(lambda x: \" \".join(x for x in x.split() if x not in rare))\n",
    "df['message'].head()"
   ]
  },
  {
   "cell_type": "code",
   "execution_count": 39,
   "metadata": {},
   "outputs": [
    {
     "data": {
      "text/plain": [
       "2"
      ]
     },
     "execution_count": 39,
     "metadata": {},
     "output_type": "execute_result"
    }
   ],
   "source": [
    "#Re-count rare used words\n",
    "rare = pd.Series(' '.join(df['message']).split()).value_counts()[-1]\n",
    "rare"
   ]
  },
  {
   "cell_type": "code",
   "execution_count": 40,
   "metadata": {},
   "outputs": [
    {
     "data": {
      "text/plain": [
       "0    0\n",
       "1    1\n",
       "2    0\n",
       "3    0\n",
       "4    0\n",
       "Name: label, dtype: int64"
      ]
     },
     "execution_count": 40,
     "metadata": {},
     "output_type": "execute_result"
    }
   ],
   "source": [
    "#Change labels spam/ham into 0/1\n",
    "df['label'] = df['label'].map({'ham': 0, 'spam': 1})\n",
    "df['label'].head()"
   ]
  },
  {
   "cell_type": "code",
   "execution_count": 41,
   "metadata": {},
   "outputs": [
    {
     "name": "stdout",
     "output_type": "stream",
     "text": [
      "Rows in test set: (1291,)\n",
      "Rows in train set: (3873,)\n"
     ]
    }
   ],
   "source": [
    "#Split the data into 75% training and 25% testing\n",
    "from sklearn.model_selection import train_test_split\n",
    "x_train, x_test, y_train, y_test = train_test_split(df['message'], df['label'], test_size = 0.25, random_state = 0)\n",
    "\n",
    "print('Rows in test set: ' + str(x_test.shape))\n",
    "print('Rows in train set: ' + str(x_train.shape))"
   ]
  },
  {
   "cell_type": "code",
   "execution_count": 42,
   "metadata": {},
   "outputs": [],
   "source": [
    "#Vectorize text's into TF-IDF matrix (converting collection of raw text to a matrix of TF-IDF)\n",
    "from sklearn.feature_extraction.text import TfidfVectorizer\n",
    "\n",
    "list = x_train.tolist()\n",
    "\n",
    "vectorizer = TfidfVectorizer(\n",
    "    input = list ,    #raw text\n",
    "    lowercase = True  #convert to lower case before tokenizing\n",
    ")\n",
    "\n",
    "features_train_transformed = vectorizer.fit_transform(list) #Returns TF-IDF vector \n",
    "features_test_transformed  = vectorizer.transform(x_test)   #Returns TF-IDF vector"
   ]
  },
  {
   "cell_type": "code",
   "execution_count": 43,
   "metadata": {},
   "outputs": [
    {
     "data": {
      "text/plain": [
       "MultinomialNB()"
      ]
     },
     "execution_count": 43,
     "metadata": {},
     "output_type": "execute_result"
    }
   ],
   "source": [
    "#Train a classifier using train dataset\n",
    "from sklearn.naive_bayes import MultinomialNB\n",
    "\n",
    "classifier = MultinomialNB()\n",
    "classifier.fit(features_train_transformed, y_train)"
   ]
  },
  {
   "cell_type": "code",
   "execution_count": 44,
   "metadata": {},
   "outputs": [
    {
     "name": "stdout",
     "output_type": "stream",
     "text": [
      "True Possitive: 1133\n",
      "False Positive: 2\n",
      "False Negative: 35\n",
      "True Negative: 121\n",
      "Accuracy Score: 0.971\n",
      "Report: \n",
      "              precision    recall  f1-score   support\n",
      "\n",
      "           0       0.97      1.00      0.98      1135\n",
      "           1       0.98      0.78      0.87       156\n",
      "\n",
      "    accuracy                           0.97      1291\n",
      "   macro avg       0.98      0.89      0.93      1291\n",
      "weighted avg       0.97      0.97      0.97      1291\n",
      "\n"
     ]
    }
   ],
   "source": [
    "#Test model on test dataset\n",
    "from sklearn.metrics import f1_score\n",
    "from sklearn.metrics import confusion_matrix \n",
    "from sklearn.metrics import accuracy_score \n",
    "from sklearn.metrics import classification_report \n",
    "  \n",
    "actual = y_test.tolist() \n",
    "predicted = classifier.predict(features_test_transformed)\n",
    "results = confusion_matrix(actual, predicted) \n",
    "  \n",
    "print('True Possitive: ' + str(results[0][0]))\n",
    "print('False Positive: ' + str(results[0][1]))\n",
    "print('False Negative: ' + str(results[1][0]))\n",
    "print('True Negative: ' + str(results[1][1]))\n",
    "\n",
    "print ('Accuracy Score: %.3f' % accuracy_score(actual, predicted)) \n",
    "print ('Report: ')\n",
    "print (classification_report(actual, predicted) )"
   ]
  },
  {
   "cell_type": "code",
   "execution_count": 45,
   "metadata": {},
   "outputs": [
    {
     "name": "stdout",
     "output_type": "stream",
     "text": [
      "STOP - This sentence is a spam! - sentence -> Free entry in 2 a wkly comp to win FA Cup final tkts 21st May 2005. Text FA to 87121 to receive entr...\n",
      "\n",
      "OK - This sentence is not a spam. - sentence -> Nah I don't think he goes to usf, he lives around here though\n",
      "\n",
      "\n",
      "Processed ok.\n"
     ]
    }
   ],
   "source": [
    "#Test solution\n",
    "\n",
    "sentences = [\n",
    "    \"Free entry in 2 a wkly comp to win FA Cup final tkts 21st May 2005. Text FA to 87121 to receive entr...\",\n",
    "    \"Nah I don't think he goes to usf, he lives around here though\"\n",
    "]\n",
    "\n",
    "# Core functions below\n",
    "# Verify is given sentences are spam, \n",
    "# return 1 if function working good, \n",
    "# return 0 if error has occured\n",
    "def veryfy_spam_function(texts):\n",
    "    \n",
    "    #Count number of sentences to verify \n",
    "    number_of_sentences = len(texts)\n",
    "    \n",
    "    if number_of_sentences == 0:\n",
    "        print('No sentence to verify, give at least one!')\n",
    "        return False\n",
    "    \n",
    "    #Convert to dataframe\n",
    "    df = pd.DataFrame(texts, columns=['message'])\n",
    "    \n",
    "    #Remove punctuation\n",
    "    df['message'] = df['message'].str.replace('[^\\w\\s]', '')\n",
    "    \n",
    "    #Remove stopwords\n",
    "    stop = stopwords.words('english')\n",
    "    df['message'] = df['message'].apply(lambda x: \" \".join(x for x in x.split() if x not in stop))\n",
    "    \n",
    "    #Vectorize\n",
    "    vect = vectorizer.transform(df['message'])\n",
    "    \n",
    "    #Predict result\n",
    "    result = classifier.predict(vect)\n",
    "    \n",
    "    if number_of_sentences == 1:  #Do it only if one sentence has been verified\n",
    "        print(get_message(result[0]))\n",
    "    elif number_of_sentences > 1: #Do it only if more than one sentences have been verified\n",
    "        i = 0;\n",
    "        for x in texts:\n",
    "            print(get_message(result[i]) + \" - sentence -> \" + x + \"\\n\")\n",
    "            i = i+1\n",
    "            \n",
    "    return True\n",
    "    \n",
    "def get_message(result):\n",
    "    if result == 1:\n",
    "        message = 'STOP - This sentence is a spam!';\n",
    "    else:\n",
    "        message = 'OK - This sentence is not a spam.';\n",
    "    return message\n",
    "\n",
    "#Function to verify if sentences are spam\n",
    "if veryfy_spam_function(sentences):\n",
    "    print(\"\\nProcessed ok.\")\n",
    "else:\n",
    "    print(\"\\nSome errors occurred!\")"
   ]
  }
 ],
 "metadata": {
  "kernelspec": {
   "display_name": "Python 3",
   "language": "python",
   "name": "python3"
  },
  "language_info": {
   "codemirror_mode": {
    "name": "ipython",
    "version": 3
   },
   "file_extension": ".py",
   "mimetype": "text/x-python",
   "name": "python",
   "nbconvert_exporter": "python",
   "pygments_lexer": "ipython3",
   "version": "3.8.5"
  }
 },
 "nbformat": 4,
 "nbformat_minor": 4
}
